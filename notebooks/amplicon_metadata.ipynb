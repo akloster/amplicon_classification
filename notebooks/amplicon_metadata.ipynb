{
 "cells": [
  {
   "cell_type": "markdown",
   "metadata": {},
   "source": [
    "# Preparing the reads\n",
    "\n",
    "[Loose et al] published their raw read files on ENA. This script uses four of these sets which contain reads of amplicons. These were processed using different \"read until\" scripts (or none at all), but that doesn't matter. What does matter is to get as much real reads as possible."
   ]
  },
  {
   "cell_type": "code",
   "execution_count": 2,
   "metadata": {
    "collapsed": true
   },
   "outputs": [],
   "source": [
    "%load_ext autoreload\n",
    "%autoreload 2"
   ]
  },
  {
   "cell_type": "code",
   "execution_count": 288,
   "metadata": {
    "collapsed": true
   },
   "outputs": [],
   "source": [
    "import numpy as np\n",
    "import pandas as pd\n",
    "import matplotlib.pyplot as plt\n",
    "import seaborn\n",
    "import porekit\n",
    "import re\n",
    "import pysam\n",
    "import random\n",
    "import feather\n",
    "%matplotlib inline"
   ]
  },
  {
   "cell_type": "markdown",
   "metadata": {},
   "source": [
    "## Load metadata for 4 datasets"
   ]
  },
  {
   "cell_type": "code",
   "execution_count": 69,
   "metadata": {
    "collapsed": true
   },
   "outputs": [],
   "source": [
    "directories = [\"AmpliconOddEvenControl\", \"AmpliconOddReadUntil\", \"AmpliconEvenReadUntil\", \"Balanced\"]"
   ]
  },
  {
   "cell_type": "code",
   "execution_count": 70,
   "metadata": {
    "collapsed": false
   },
   "outputs": [
    {
     "name": "stdout",
     "output_type": "stream",
     "text": [
      "AmpliconOddEvenControl\n",
      "7576\n",
      "AmpliconOddReadUntil\n",
      "25999\n",
      "AmpliconEvenReadUntil\n",
      "20032\n",
      "Balanced\n",
      "24386\n"
     ]
    }
   ],
   "source": [
    "meta_frames = []\n",
    "for d in directories:\n",
    "    print(d)\n",
    "    df = porekit.gather_metadata(\"/home/andi/nanopore/%s\" % d, workers=4)\n",
    "    print(df.shape[0])\n",
    "    meta_frames.append(df)"
   ]
  },
  {
   "cell_type": "code",
   "execution_count": 261,
   "metadata": {
    "collapsed": true
   },
   "outputs": [],
   "source": [
    "meta = pd.concat (meta_frames)"
   ]
  },
  {
   "cell_type": "code",
   "execution_count": 213,
   "metadata": {
    "collapsed": false
   },
   "outputs": [
    {
     "name": "stdout",
     "output_type": "stream",
     "text": [
      "(7576, 27)\n",
      "(25999, 27)\n",
      "(20032, 27)\n",
      "(24386, 27)\n"
     ]
    }
   ],
   "source": [
    "for df in meta_frames:\n",
    "    print (df.shape)"
   ]
  },
  {
   "cell_type": "markdown",
   "metadata": {},
   "source": [
    "The individual filenames will look like this:"
   ]
  },
  {
   "cell_type": "code",
   "execution_count": 214,
   "metadata": {
    "collapsed": false
   },
   "outputs": [
    {
     "data": {
      "text/plain": [
       "'llssbzms2p35x_20151005_readuntilnorm_RU24_lambdaPCR_4713_1_ch475_file3_strand.fast5'"
      ]
     },
     "execution_count": 214,
     "metadata": {},
     "output_type": "execute_result"
    }
   ],
   "source": [
    "meta_frames[0].index.values[0]"
   ]
  },
  {
   "cell_type": "code",
   "execution_count": 215,
   "metadata": {
    "collapsed": false
   },
   "outputs": [
    {
     "data": {
      "text/plain": [
       "'llssbzms2p35x_20151004_readuntiludududududu_RU21_lambdaPCR_2922_1_ch7_file74_strand.fast5'"
      ]
     },
     "execution_count": 215,
     "metadata": {},
     "output_type": "execute_result"
    }
   ],
   "source": [
    "meta_frames[1].index.values[0]"
   ]
  },
  {
   "cell_type": "code",
   "execution_count": 216,
   "metadata": {
    "collapsed": false
   },
   "outputs": [
    {
     "data": {
      "text/plain": [
       "'llssbzms2p35x_20151004_readuntildududududud_RU22_lambdaPCR_4117_1_ch9_file62_strand.fast5'"
      ]
     },
     "execution_count": 216,
     "metadata": {},
     "output_type": "execute_result"
    }
   ],
   "source": [
    "meta_frames[2].index.values[0]"
   ]
  },
  {
   "cell_type": "code",
   "execution_count": 217,
   "metadata": {
    "collapsed": false
   },
   "outputs": [
    {
     "data": {
      "text/plain": [
       "'PLSP57501_lambda_200xRU_5027_1_ch95_file50_strand.fast5'"
      ]
     },
     "execution_count": 217,
     "metadata": {},
     "output_type": "execute_result"
    }
   ],
   "source": [
    "meta_frames[3].index.values[0]"
   ]
  },
  {
   "cell_type": "markdown",
   "metadata": {},
   "source": [
    "## Merging alignment data\n",
    "\n",
    "[Loose et al] provide all the intermediate data files necessary to recreate their figures. Among these, there are some alignment files in SAM format.\n",
    "\n",
    "Because it doesn't make sense to classify complement sequences/matches in the Read Until context, we only use the \"Template\" strands."
   ]
  },
  {
   "cell_type": "code",
   "execution_count": 262,
   "metadata": {
    "collapsed": true
   },
   "outputs": [],
   "source": [
    "def sam_to_dataframe(file_name):\n",
    "    sam = pysam.AlignmentFile(file_name)\n",
    "    records = []\n",
    "    for i, segment in enumerate(sam):\n",
    "        d = dict()\n",
    "        for k in [\"query_name\", \"reference_start\", \"reference_end\", \"mapping_quality\", ]:\n",
    "            d[k] = getattr(segment, k)\n",
    "        records.append(d)\n",
    "    alignments = pd.DataFrame.from_records(records)\n",
    "    return alignments"
   ]
  },
  {
   "cell_type": "code",
   "execution_count": 263,
   "metadata": {
    "collapsed": false
   },
   "outputs": [],
   "source": [
    "base  = \"/home/andi/nanopore/RUFigs/data\"\n",
    "bams = [\"/fig3/RU_dudu/RU_dudu_Template.bam\",\n",
    "        \"/fig3/RU_udud/RU_udud_Template.bam\",\n",
    "        \"/fig3/NO_RU/NO_RU_Template.bam\",\n",
    "        \"/fig4/200/200_Template.bam\",\n",
    "        ]\n",
    "alignments = pd.concat([sam_to_dataframe(base+file_name) for file_name in bams])"
   ]
  },
  {
   "cell_type": "markdown",
   "metadata": {},
   "source": [
    "Unfortunately filenames and sequence names tend to get a bit mangled when going from Fast5 to SAM, for various reasons. As of now, there is no particular convention for naming read files or naming the exported sequences. On the one hand I don't feel like it is a good idea to abuse filenames as character seperated database rows, on the other hand, using the unique read id from the Fast5 File isn't very human-friendly either.\n",
    "\n",
    "To assign genomic coordinates to the reads, a regular expression extracts four numbers from the file name/query name  making each read unique and matchable."
   ]
  },
  {
   "cell_type": "code",
   "execution_count": 264,
   "metadata": {
    "collapsed": false
   },
   "outputs": [],
   "source": [
    "regexp = re.compile(r'_(?P<a>\\d+)_(?P<b>\\d+)_ch(?P<c>\\d+)_file(?P<d>\\d+)')\n",
    "def extract(s):\n",
    "    try:\n",
    "        return \"_\".join(regexp.search(s).groups())\n",
    "    except:\n",
    "        return \"\"\n",
    "alignments[\"alignment_key\"] = alignments.query_name.map(extract)\n",
    "meta[\"alignment_key\"] = meta.index.map(extract)\n",
    "alignments[\"alignment_key\"].map(lambda s: s.split(\"_\")[0]).unique()\n",
    "meta[\"run_number\"] = meta[\"alignment_key\"].map(lambda s: s.split(\"_\")[0])"
   ]
  },
  {
   "cell_type": "code",
   "execution_count": 265,
   "metadata": {
    "collapsed": false
   },
   "outputs": [
    {
     "data": {
      "text/plain": [
       "(48024, 33)"
      ]
     },
     "execution_count": 265,
     "metadata": {},
     "output_type": "execute_result"
    }
   ],
   "source": [
    "meta2 = meta.reset_index().merge(alignments).set_index(\"filename\")\n",
    "meta2.shape"
   ]
  },
  {
   "cell_type": "code",
   "execution_count": 268,
   "metadata": {
    "collapsed": false
   },
   "outputs": [],
   "source": [
    "meta = meta2"
   ]
  },
  {
   "cell_type": "markdown",
   "metadata": {},
   "source": [
    "## Visualizing the alignments\n",
    "\n",
    "This is just a simple histogram showing where the \"reference_start\" values fall."
   ]
  },
  {
   "cell_type": "code",
   "execution_count": 269,
   "metadata": {
    "collapsed": false
   },
   "outputs": [
    {
     "data": {
      "image/png": "[encoded data removed]",
      "text/plain": [
       "<matplotlib.figure.Figure at 0x7f94f6017ac8>"
      ]
     },
     "metadata": {},
     "output_type": "display_data"
    }
   ],
   "source": [
    "f, ax = plt.subplots()\n",
    "f.set_figwidth(13)\n",
    "ax.hist(meta.reference_start, bins=110);"
   ]
  },
  {
   "cell_type": "markdown",
   "metadata": {},
   "source": [
    "## Processing the amplicons\n",
    "\n",
    "[Loose et al] pooled 11 amplicons. Each read has to be assigned retroactively to one of these, represented by number from 0 to 10."
   ]
  },
  {
   "cell_type": "code",
   "execution_count": 274,
   "metadata": {
    "collapsed": false
   },
   "outputs": [],
   "source": [
    "amplicons = [(52,1980),\n",
    "             (2065,3965),\n",
    "             (4070,5989),\n",
    "             (6059,7981),\n",
    "             (8012,9947),\n",
    "             (10008,11963),\n",
    "             (12006,13941),\n",
    "             (14011,15945),\n",
    "             (16076,17987),\n",
    "             (18022,19972),\n",
    "             (20053,21979),\n",
    "            ]\n",
    "def amplicon_from_position(pos):\n",
    "    for i,c in enumerate(amplicons):\n",
    "        a,b = c\n",
    "        if a<=pos<=b:\n",
    "            return i\n",
    "meta[\"amplicon\"] = meta.reference_start.map(amplicon_from_position)\n"
   ]
  },
  {
   "cell_type": "markdown",
   "metadata": {},
   "source": [
    "How many reads failed to be assigned?"
   ]
  },
  {
   "cell_type": "code",
   "execution_count": 275,
   "metadata": {
    "collapsed": false
   },
   "outputs": [
    {
     "data": {
      "text/plain": [
       "11622"
      ]
     },
     "execution_count": 275,
     "metadata": {},
     "output_type": "execute_result"
    }
   ],
   "source": [
    "meta.amplicon.isnull().sum()"
   ]
  },
  {
   "cell_type": "markdown",
   "metadata": {},
   "source": [
    "Purge these:"
   ]
  },
  {
   "cell_type": "code",
   "execution_count": 280,
   "metadata": {
    "collapsed": false
   },
   "outputs": [
    {
     "data": {
      "text/plain": [
       "(36402, 34)"
      ]
     },
     "execution_count": 280,
     "metadata": {},
     "output_type": "execute_result"
    }
   ],
   "source": [
    "meta = meta[np.isnan(meta.amplicon)==False]\n",
    "meta.shape"
   ]
  },
  {
   "cell_type": "markdown",
   "metadata": {},
   "source": [
    "The number of viable reads is diminishing quickly. But this can't be helped.\n",
    "\n",
    "How many reads longer than 500 bases are assigned to each amplicon?"
   ]
  },
  {
   "cell_type": "code",
   "execution_count": 277,
   "metadata": {
    "collapsed": false
   },
   "outputs": [
    {
     "data": {
      "text/plain": [
       "amplicon\n",
       "0.0     1080\n",
       "1.0     2475\n",
       "2.0     1241\n",
       "3.0      997\n",
       "4.0     2194\n",
       "5.0     1221\n",
       "6.0      635\n",
       "7.0     2503\n",
       "8.0     2006\n",
       "9.0     4018\n",
       "10.0    1854\n",
       "Name: format, dtype: int64"
      ]
     },
     "execution_count": 277,
     "metadata": {},
     "output_type": "execute_result"
    }
   ],
   "source": [
    "meta.query(\"template_length>500\").groupby(\"amplicon\").format.count()"
   ]
  },
  {
   "cell_type": "markdown",
   "metadata": {},
   "source": [
    "Unfortunately some amplicons are severely underrepresented, with one going as low as 635 reads.\n",
    "\n",
    "This is a big problem for dividing the data into training and test sets, because blindly sampling from total pool may skew this balance even further. The algorithms will then bias against the least represented amplicons to gain a bit of extra accuracy, which is not what we want. With ten times as much data we could balance both the training and the test set. As it is, I chose to balance the test set only, to get a more realistic view of the performance. My assumption is that, over multiple repetitions of amplification / library preparation and sequencing runs, the amplicons should be roughly equally distributed.\n",
    "\n",
    "To balance the test set, 200 reads from each amplicon are chosen. This makes for a very weak test set. But again, this can't be helped at this point."
   ]
  },
  {
   "cell_type": "code",
   "execution_count": 308,
   "metadata": {
    "collapsed": false
   },
   "outputs": [
    {
     "data": {
      "text/plain": [
       "(17831, 2200)"
      ]
     },
     "execution_count": 308,
     "metadata": {},
     "output_type": "execute_result"
    }
   ],
   "source": [
    "sufficient = meta.query(\"template_length>=500\")\n",
    "all_files = sufficient.index.values\n",
    "test_files = []\n",
    "for i in range(11):\n",
    "    sub = sufficient[sufficient.amplicon==i]\n",
    "    test_files += list(np.random.choice(sub.index.values, 200))\n",
    "    \n",
    "training_files = list(set(sufficient.index.values) - set(test_files))\n",
    "len(training_files), len(test_files)"
   ]
  },
  {
   "cell_type": "code",
   "execution_count": 309,
   "metadata": {
    "collapsed": false
   },
   "outputs": [],
   "source": [
    "test_data = sufficient.ix[np.array(test_files)]\n",
    "feather.write_dataframe(test_data, \"amplicon_test_metadata.feather\")\n",
    "\n",
    "training_data = sufficient.ix[np.array(training_files)]\n",
    "feather.write_dataframe(training_data, \"amplicon_training_metadata.feather\")"
   ]
  }
 ],
 "metadata": {
  "kernelspec": {
   "display_name": "Python 3",
   "language": "python",
   "name": "python3"
  },
  "language_info": {
   "codemirror_mode": {
    "name": "ipython",
    "version": 3
   },
   "file_extension": ".py",
   "mimetype": "text/x-python",
   "name": "python",
   "nbconvert_exporter": "python",
   "pygments_lexer": "ipython3",
   "version": "3.5.1"
  }
 },
 "nbformat": 4,
 "nbformat_minor": 0
}
